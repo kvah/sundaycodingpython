{
 "cells": [
  {
   "cell_type": "markdown",
   "metadata": {},
   "source": [
    "## Problem 1 (For Loops):\n",
    "Write a function `square_list` that takes in a list `arr` and squares all of the elements in the list. You can either modify the original list or return a new list."
   ]
  },
  {
   "cell_type": "code",
   "execution_count": 1,
   "metadata": {},
   "outputs": [],
   "source": [
    "def square_list(arr):\n",
    "    '''\n",
    "    arr is a list\n",
    "    \n",
    "    Input: [0, 5, 25, 10]\n",
    "    Output: [0, 25, 625, 100]\n",
    "    \n",
    "    Input: [1, 1, 5, 2]\n",
    "    Output: [1, 1, 25, 4]\n",
    "    \n",
    "    Input: [-2, -5, 10]\n",
    "    Output: [4, 25, 100]\n",
    "    '''\n",
    "    # Your code goes here\n",
    "    ..."
   ]
  },
  {
   "cell_type": "markdown",
   "metadata": {},
   "source": [
    "## Problem 2 (Sets): "
   ]
  },
  {
   "cell_type": "markdown",
   "metadata": {},
   "source": [
    "Write a function `remove_multiples_of_5` that takes in a set and removes all elements that are a multiple of 5 from the set. Assume that all elements are positive."
   ]
  },
  {
   "cell_type": "code",
   "execution_count": null,
   "metadata": {},
   "outputs": [],
   "source": [
    "def remove_multiples_of_5(s):\n",
    "    '''\n",
    "    Input: Set([1, 6, 15, 10])\n",
    "    Output: Set([1, 6])\n",
    "    \n",
    "    Input: Set([1, 2, 4])\n",
    "    Output: Set([1, 2, 4])\n",
    "    \n",
    "    Input: Set([5, 10, 15])\n",
    "    Output: Set([])\n",
    "    '''\n",
    "    \n",
    "    # Your code goes here\n",
    "    ..."
   ]
  }
 ],
 "metadata": {
  "kernelspec": {
   "display_name": "Python 3",
   "language": "python",
   "name": "python3"
  },
  "language_info": {
   "codemirror_mode": {
    "name": "ipython",
    "version": 3
   },
   "file_extension": ".py",
   "mimetype": "text/x-python",
   "name": "python",
   "nbconvert_exporter": "python",
   "pygments_lexer": "ipython3",
   "version": "3.8.3"
  }
 },
 "nbformat": 4,
 "nbformat_minor": 4
}
